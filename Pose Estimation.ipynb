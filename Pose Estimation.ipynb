{
 "cells": [
  {
   "cell_type": "code",
   "execution_count": null,
   "id": "c96fdb40",
   "metadata": {},
   "outputs": [],
   "source": [
    "import cv2\n",
    "import mediapipe as mp \n",
    "from sklearn.cluster import KMeans\n",
    "import pandas as pd\n",
    "import mediapipe.python.solutions.drawing_utils as mp_drawing \n",
    "\n",
    "mp_pose = mp.solutions.pose\n",
    "\n",
    "# Configure model complexity and landmarks\n",
    "mp_pose.Pose(\n",
    "  static_image_mode=False,\n",
    "  model_complexity=2,\n",
    "  smooth_landmarks=True,\n",
    "  min_detection_confidence=0.5,\n",
    "  min_tracking_confidence=0.5\n",
    ")\n",
    "# Get the video from Webcam\n",
    "cap = cv2.VideoCapture(0)\n",
    "landmark_list = []\n",
    "\n",
    "with mp_pose.Pose() as pose_detector:\n",
    "  while cap.isOpened():\n",
    "    success, image = cap.read()\n",
    "    if not success:\n",
    "      continue\n",
    "\n",
    "    # Detect landmarks\n",
    "    results = pose_detector.process(cv2.cvtColor(image, cv2.COLOR_BGR2RGB)) \n",
    "    \n",
    "    # Get landmark values\n",
    "    landmarks = results.pose_landmarks.landmark\n",
    "    landmark_values = [[lmk.x, lmk.y, lmk.z] for lmk in landmarks]\n",
    "\n",
    "    # Append to list\n",
    "    landmark_list.append(landmark_values)\n",
    "\n",
    "    # Draw landmarks\n",
    "    mp_drawing.draw_landmarks(image, results.pose_landmarks, mp_pose.POSE_CONNECTIONS)\n",
    "    cv2.imshow('Pose Estimation', image)\n",
    "\n",
    "    if cv2.waitKey(5) == 27:\n",
    "      break\n",
    "\n",
    "# Clustering\n",
    "num_clusters = 5\n",
    "kmeans = KMeans(n_clusters=num_clusters, random_state=0).fit(landmark_list)\n",
    "\n",
    "print(f\"Found {num_clusters} pose clusters\")\n",
    "\n",
    "# Save clusters\n",
    "df = pd.DataFrame(kmeans.labels_, columns=['cluster'])\n",
    "df.to_csv('pose_clusters.csv')\n",
    "\n",
    "cap.release()"
   ]
  },
  {
   "cell_type": "code",
   "execution_count": null,
   "id": "aaa4918b",
   "metadata": {},
   "outputs": [],
   "source": []
  }
 ],
 "metadata": {
  "kernelspec": {
   "display_name": "Python 3 (ipykernel)",
   "language": "python",
   "name": "python3"
  },
  "language_info": {
   "codemirror_mode": {
    "name": "ipython",
    "version": 3
   },
   "file_extension": ".py",
   "mimetype": "text/x-python",
   "name": "python",
   "nbconvert_exporter": "python",
   "pygments_lexer": "ipython3",
   "version": "3.10.9"
  },
  "vp": {
   "vp_config_version": "1.0.0",
   "vp_menu_width": 273,
   "vp_note_display": false,
   "vp_note_width": 0,
   "vp_position": {
    "width": 278
   },
   "vp_section_display": false,
   "vp_signature": "VisualPython"
  }
 },
 "nbformat": 4,
 "nbformat_minor": 5
}
